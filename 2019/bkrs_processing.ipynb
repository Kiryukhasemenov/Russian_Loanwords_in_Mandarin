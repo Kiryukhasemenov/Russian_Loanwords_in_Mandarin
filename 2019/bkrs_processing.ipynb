{
 "cells": [
  {
   "cell_type": "markdown",
   "metadata": {},
   "source": [
    "## Подготовка подвыборки датасета из Wikidata с транскрипцией\n",
    "Цель данной программы - рассмотреть каждый объект базового датасета и проверить, есть ли словарная статья с транскрипцией этого объекта в онлайн-словаре БКРС. Если статья есть - объект вместе с транскрипцией добавляется в отдельный датасет."
   ]
  },
  {
   "cell_type": "code",
   "execution_count": 1,
   "metadata": {},
   "outputs": [],
   "source": [
    "import pandas as pd\n",
    "import html\n",
    "import urllib\n",
    "import time\n",
    "import re\n",
    "import textdistance"
   ]
  },
  {
   "cell_type": "markdown",
   "metadata": {},
   "source": [
    "### Код, позволяющий найти на сайте БКРС транскрипцию иероглифического слова\n",
    "Инпут: иероглифическая строка\n",
    "\n",
    "Аутпут: транскрипция (пиньинь)"
   ]
  },
  {
   "cell_type": "code",
   "execution_count": 3,
   "metadata": {},
   "outputs": [],
   "source": [
    "def pinyin_extractor(zh):\n",
    "    address = 'https://bkrs.info/slovo.php?'\n",
    "    user_agent = 'Mozilla/5.0 (Windows NT 6.1; Win64; x64)'\n",
    "    val = {'ch':zh}\n",
    "    data = urllib.parse.urlencode(val)\n",
    "    #data = data.encode('utf-8') # data should be bytes\n",
    "    address = address + data\n",
    "    #respData \n",
    "    #print(respData[:1000])\n",
    "    #try:\n",
    "    req = urllib.request.Request(address, headers={'User-Agent':user_agent})\n",
    "    resp = urllib.request.urlopen(req)\n",
    "    html = resp.read().decode(\"utf-8\", \"strict\")\n",
    "    #with open('check.txt', 'w', encoding='utf-8') as f:\n",
    "    #    f.write(html)\n",
    "    print(html[30:60])\n",
    "    res = re.search(r\"<div class='py'>\\n(.*?)\\n</div>\", html, flags=re.DOTALL) #<div class='py'>(.*?)</div>\n",
    "    #print(res)\n",
    "    if res == None:\n",
    "        return 'NaN'\n",
    "    else:\n",
    "        pinyin = res.group(1)\n",
    "    #except:\n",
    "    #    print('fail')\n",
    "    #    return 'NaN'\n",
    "    pinyin = pinyin.lower()\n",
    "    time.sleep(0.2)\n",
    "    return pinyin"
   ]
  },
  {
   "cell_type": "code",
   "execution_count": 14,
   "metadata": {},
   "outputs": [
    {
     "name": "stdout",
     "output_type": "stream",
     "text": [
      "\t<title>莫斯科</title>\n",
      "\t<meta nam\n"
     ]
    },
    {
     "data": {
      "text/plain": [
       "'mòsīkē'"
      ]
     },
     "execution_count": 14,
     "metadata": {},
     "output_type": "execute_result"
    }
   ],
   "source": [
    "pinyin_extractor('莫斯科')"
   ]
  },
  {
   "cell_type": "markdown",
   "metadata": {},
   "source": [
    "### Загрузка исходного датасета"
   ]
  },
  {
   "cell_type": "code",
   "execution_count": 2,
   "metadata": {},
   "outputs": [],
   "source": [
    "df = pd.read_csv('data_total_2.csv')\n",
    "#df.head()\n",
    "without_ukr = df['country'] != 'Ukraine'\n",
    "df_no_ukr = df[without_ukr]\n",
    "df_no_ukr = df_no_ukr.drop_duplicates(subset=['label_ru', 'label_zh'])"
   ]
  },
  {
   "cell_type": "code",
   "execution_count": 3,
   "metadata": {
    "scrolled": true
   },
   "outputs": [
    {
     "data": {
      "text/plain": [
       "(12822, 10)"
      ]
     },
     "execution_count": 3,
     "metadata": {},
     "output_type": "execute_result"
    }
   ],
   "source": [
    "df_no_ukr.shape"
   ]
  },
  {
   "cell_type": "markdown",
   "metadata": {},
   "source": [
    "### Обработка исходного датасета\n",
    "Код проходится циклом по датасету и, если находит транскрипцию в словаре, записывает ее в файл data_with_translit_2.csv."
   ]
  },
  {
   "cell_type": "code",
   "execution_count": 6,
   "metadata": {},
   "outputs": [],
   "source": [
    "with open('data_with_translit_2.csv', 'w',encoding='utf-8') as src:\n",
    "    src.write('label_zh;label_ru;translit\\n')"
   ]
  },
  {
   "cell_type": "code",
   "execution_count": null,
   "metadata": {
    "scrolled": true
   },
   "outputs": [
    {
     "name": "stdout",
     "output_type": "stream",
     "text": [
      "0 伊曼德拉\n",
      "\t<title>伊曼德拉</title>\n",
      "\t<meta na\n",
      "1 奥涅加\n",
      "\t<title>奥涅加</title>\n",
      "\t<meta nam\n",
      "caught\n",
      "奥涅加 àonièjiā Онежское\n",
      "2 汉泰\n",
      "\t<title>汉泰</title>\n",
      "\t<meta name\n",
      "3 奥特拉德诺耶\n",
      "\t<title>奥特拉德诺耶</title>\n",
      "\t<meta \n",
      "caught\n",
      "奥特拉德诺耶 àotèlādénuòyē Отрадное\n",
      "4 绍托泽罗\n",
      "\t<title>绍托泽罗</title>\n",
      "\t<meta na\n",
      "5 克烈季\n",
      "\t<title>克烈季</title>\n",
      "\t<meta nam\n",
      "6 尼季利\n",
      "\t<title>尼季利</title>\n",
      "\t<meta nam\n",
      "7 奎托\n",
      "\t<title>奎托</title>\n",
      "\t<meta name\n",
      "9 贝加尔\n",
      "\t<title>贝加尔</title>\n",
      "\t<meta nam\n",
      "caught\n",
      "贝加尔 bèijiā’ěr Байкал\n",
      "10 丘克恰吉尔斯科耶\n",
      "\t<title>丘克恰吉尔斯科耶</title>\n",
      "\t<met\n",
      "11 沃德洛泽罗\n",
      "\t<title>沃德洛泽罗</title>\n",
      "\t<meta n\n",
      "12 兴凯\n",
      "\t<title>兴凯</title>\n",
      "\t<meta name\n",
      "13 拉多加\n",
      "\t<title>拉多加</title>\n",
      "\t<meta nam\n",
      "caught\n",
      "拉多加 lāduōjiā Ладожское\n",
      "14 维什蒂蒂斯\n",
      "\t<title>维什蒂蒂斯</title>\n",
      "\t<meta n\n",
      "15 维戈泽罗\n",
      "\t<title>维戈泽罗</title>\n",
      "\t<meta na\n",
      "16 伊尔门\n",
      "\t<title>伊尔门</title>\n",
      "\t<meta nam\n",
      "17 捷列茨科耶\n"
     ]
    }
   ],
   "source": [
    "for index, row in df_no_ukr.iterrows():\n",
    "    #print(row['label_zh'], row['label_ru'])\n",
    "    print(index, row['label_zh'])\n",
    "    try:\n",
    "        pinyin_zh = pinyin_extractor(row['label_zh'])\n",
    "        if pinyin_zh != 'NaN' and pinyin_zh != '_':\n",
    "            with open('data_with_translit_2.csv', 'a', encoding='utf-8') as f:\n",
    "                print('caught')\n",
    "                print(row['label_zh'], pinyin_zh, row['label_ru'])\n",
    "                f.write(row['label_zh'] + ';' + row['label_ru'] + ';' + pinyin_zh + '\\n')\n",
    "    except:\n",
    "        print('something wrong with '+row['label_zh'])\n",
    "    #if index % 100 == 0:\n",
    "        print(index)\n",
    "        time.sleep(3)"
   ]
  },
  {
   "cell_type": "markdown",
   "metadata": {},
   "source": [
    "### Полученный датасет"
   ]
  },
  {
   "cell_type": "code",
   "execution_count": 4,
   "metadata": {},
   "outputs": [
    {
     "data": {
      "text/html": [
       "<div>\n",
       "<style scoped>\n",
       "    .dataframe tbody tr th:only-of-type {\n",
       "        vertical-align: middle;\n",
       "    }\n",
       "\n",
       "    .dataframe tbody tr th {\n",
       "        vertical-align: top;\n",
       "    }\n",
       "\n",
       "    .dataframe thead th {\n",
       "        text-align: right;\n",
       "    }\n",
       "</style>\n",
       "<table border=\"1\" class=\"dataframe\">\n",
       "  <thead>\n",
       "    <tr style=\"text-align: right;\">\n",
       "      <th></th>\n",
       "      <th>label_zh</th>\n",
       "      <th>label_ru</th>\n",
       "      <th>translit</th>\n",
       "    </tr>\n",
       "  </thead>\n",
       "  <tbody>\n",
       "    <tr>\n",
       "      <th>0</th>\n",
       "      <td>奥涅加</td>\n",
       "      <td>Онежское</td>\n",
       "      <td>àonièjiā</td>\n",
       "    </tr>\n",
       "    <tr>\n",
       "      <th>1</th>\n",
       "      <td>奥特拉德诺耶</td>\n",
       "      <td>Отрадное</td>\n",
       "      <td>àotèlādénuòyē</td>\n",
       "    </tr>\n",
       "    <tr>\n",
       "      <th>2</th>\n",
       "      <td>贝加尔</td>\n",
       "      <td>Байкал</td>\n",
       "      <td>bèijiā’ěr</td>\n",
       "    </tr>\n",
       "    <tr>\n",
       "      <th>3</th>\n",
       "      <td>拉多加</td>\n",
       "      <td>Ладожское</td>\n",
       "      <td>lāduōjiā</td>\n",
       "    </tr>\n",
       "    <tr>\n",
       "      <th>4</th>\n",
       "      <td>伏尔加</td>\n",
       "      <td>Волго</td>\n",
       "      <td>fú’ěrjiā</td>\n",
       "    </tr>\n",
       "  </tbody>\n",
       "</table>\n",
       "</div>"
      ],
      "text/plain": [
       "  label_zh   label_ru       translit\n",
       "0      奥涅加   Онежское       àonièjiā\n",
       "1   奥特拉德诺耶   Отрадное  àotèlādénuòyē\n",
       "2      贝加尔     Байкал      bèijiā’ěr\n",
       "3      拉多加  Ладожское       lāduōjiā\n",
       "4      伏尔加      Волго       fú’ěrjiā"
      ]
     },
     "execution_count": 4,
     "metadata": {},
     "output_type": "execute_result"
    }
   ],
   "source": [
    "df_fin = pd.read_csv('data_with_translit_2.csv', delimiter=';')\n",
    "df_fin.head()"
   ]
  }
 ],
 "metadata": {
  "kernelspec": {
   "display_name": "Python 3",
   "language": "python",
   "name": "python3"
  },
  "language_info": {
   "codemirror_mode": {
    "name": "ipython",
    "version": 3
   },
   "file_extension": ".py",
   "mimetype": "text/x-python",
   "name": "python",
   "nbconvert_exporter": "python",
   "pygments_lexer": "ipython3",
   "version": "3.6.5"
  }
 },
 "nbformat": 4,
 "nbformat_minor": 2
}
